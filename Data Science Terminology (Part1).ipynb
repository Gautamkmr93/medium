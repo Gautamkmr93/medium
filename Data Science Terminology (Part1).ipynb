{
 "cells": [
  {
   "cell_type": "code",
   "execution_count": 2,
   "metadata": {},
   "outputs": [
    {
     "data": {
      "image/png": "[encoded data removed]",
      "text/plain": [
       "<Figure size 432x288 with 1 Axes>"
      ]
     },
     "metadata": {
      "needs_background": "light"
     },
     "output_type": "display_data"
    }
   ],
   "source": [
    "import matplotlib.pyplot as plt  \n",
    "import numpy as np   \n",
    "data = np.array([1.0,2.25,3.5,4.75,5.0,6.25,7.50,8.75,9.0,10.25,11.50,12.75,13.0,14.25,15.5]) \n",
    "plt.title(\"Autocorrelation Plot\")\n",
    "plt.acorr(data)\n",
    "plt.grid(True)\n",
    "plt.show() "
   ]
  },
  {
   "cell_type": "code",
   "execution_count": 4,
   "metadata": {},
   "outputs": [
    {
     "data": {
      "text/plain": [
       "(1198, 8)"
      ]
     },
     "execution_count": 4,
     "metadata": {},
     "output_type": "execute_result"
    }
   ],
   "source": [
    "import pandas as pd\n",
    "rawdata=pd.read_csv('house_data.csv')\n",
    "rawdata.shapepe"
   ]
  },
  {
   "cell_type": "code",
   "execution_count": 5,
   "metadata": {},
   "outputs": [
    {
     "data": {
      "text/html": [
       "<div>\n",
       "<style scoped>\n",
       "    .dataframe tbody tr th:only-of-type {\n",
       "        vertical-align: middle;\n",
       "    }\n",
       "\n",
       "    .dataframe tbody tr th {\n",
       "        vertical-align: top;\n",
       "    }\n",
       "\n",
       "    .dataframe thead th {\n",
       "        text-align: right;\n",
       "    }\n",
       "</style>\n",
       "<table border=\"1\" class=\"dataframe\">\n",
       "  <thead>\n",
       "    <tr style=\"text-align: right;\">\n",
       "      <th></th>\n",
       "      <th>Living_Space(sqft)</th>\n",
       "      <th>No_Of_Bedrooms</th>\n",
       "      <th>No_Of_Bathrooms</th>\n",
       "      <th>Condition(on scale of 5)</th>\n",
       "      <th>Year_Build</th>\n",
       "      <th>Price</th>\n",
       "    </tr>\n",
       "  </thead>\n",
       "  <tbody>\n",
       "    <tr>\n",
       "      <td>Living_Space(sqft)</td>\n",
       "      <td>1.000000</td>\n",
       "      <td>0.404423</td>\n",
       "      <td>0.610282</td>\n",
       "      <td>-0.063371</td>\n",
       "      <td>0.358195</td>\n",
       "      <td>0.624660</td>\n",
       "    </tr>\n",
       "    <tr>\n",
       "      <td>No_Of_Bedrooms</td>\n",
       "      <td>0.404423</td>\n",
       "      <td>1.000000</td>\n",
       "      <td>0.509630</td>\n",
       "      <td>0.051626</td>\n",
       "      <td>0.152374</td>\n",
       "      <td>0.305737</td>\n",
       "    </tr>\n",
       "    <tr>\n",
       "      <td>No_Of_Bathrooms</td>\n",
       "      <td>0.610282</td>\n",
       "      <td>0.509630</td>\n",
       "      <td>1.000000</td>\n",
       "      <td>-0.069940</td>\n",
       "      <td>0.508875</td>\n",
       "      <td>0.503554</td>\n",
       "    </tr>\n",
       "    <tr>\n",
       "      <td>Condition(on scale of 5)</td>\n",
       "      <td>-0.063371</td>\n",
       "      <td>0.051626</td>\n",
       "      <td>-0.069940</td>\n",
       "      <td>1.000000</td>\n",
       "      <td>-0.299519</td>\n",
       "      <td>0.051832</td>\n",
       "    </tr>\n",
       "    <tr>\n",
       "      <td>Year_Build</td>\n",
       "      <td>0.358195</td>\n",
       "      <td>0.152374</td>\n",
       "      <td>0.508875</td>\n",
       "      <td>-0.299519</td>\n",
       "      <td>1.000000</td>\n",
       "      <td>0.044700</td>\n",
       "    </tr>\n",
       "    <tr>\n",
       "      <td>Price</td>\n",
       "      <td>0.624660</td>\n",
       "      <td>0.305737</td>\n",
       "      <td>0.503554</td>\n",
       "      <td>0.051832</td>\n",
       "      <td>0.044700</td>\n",
       "      <td>1.000000</td>\n",
       "    </tr>\n",
       "  </tbody>\n",
       "</table>\n",
       "</div>"
      ],
      "text/plain": [
       "                          Living_Space(sqft)  No_Of_Bedrooms  ...  Year_Build     Price\n",
       "Living_Space(sqft)                  1.000000        0.404423  ...    0.358195  0.624660\n",
       "No_Of_Bedrooms                      0.404423        1.000000  ...    0.152374  0.305737\n",
       "No_Of_Bathrooms                     0.610282        0.509630  ...    0.508875  0.503554\n",
       "Condition(on scale of 5)           -0.063371        0.051626  ...   -0.299519  0.051832\n",
       "Year_Build                          0.358195        0.152374  ...    1.000000  0.044700\n",
       "Price                               0.624660        0.305737  ...    0.044700  1.000000\n",
       "\n",
       "[6 rows x 6 columns]"
      ]
     },
     "execution_count": 5,
     "metadata": {},
     "output_type": "execute_result"
    }
   ],
   "source": [
    "rawdata.corr()"
   ]
  },
  {
   "cell_type": "code",
   "execution_count": 11,
   "metadata": {},
   "outputs": [
    {
     "data": {
      "text/html": [
       "<div>\n",
       "<style scoped>\n",
       "    .dataframe tbody tr th:only-of-type {\n",
       "        vertical-align: middle;\n",
       "    }\n",
       "\n",
       "    .dataframe tbody tr th {\n",
       "        vertical-align: top;\n",
       "    }\n",
       "\n",
       "    .dataframe thead th {\n",
       "        text-align: right;\n",
       "    }\n",
       "</style>\n",
       "<table border=\"1\" class=\"dataframe\">\n",
       "  <thead>\n",
       "    <tr style=\"text-align: right;\">\n",
       "      <th></th>\n",
       "      <th>Living_Space(sqft)</th>\n",
       "      <th>No_Of_Bedrooms</th>\n",
       "      <th>No_Of_Bathrooms</th>\n",
       "      <th>Condition(on scale of 5)</th>\n",
       "      <th>Year_Build</th>\n",
       "      <th>Price</th>\n",
       "    </tr>\n",
       "  </thead>\n",
       "  <tbody>\n",
       "    <tr>\n",
       "      <td>Living_Space(sqft)</td>\n",
       "      <td>4.655467e+05</td>\n",
       "      <td>239.879618</td>\n",
       "      <td>311.695795</td>\n",
       "      <td>-29.604114</td>\n",
       "      <td>6841.451065</td>\n",
       "      <td>1.539372e+08</td>\n",
       "    </tr>\n",
       "    <tr>\n",
       "      <td>No_Of_Bedrooms</td>\n",
       "      <td>2.398796e+02</td>\n",
       "      <td>0.756911</td>\n",
       "      <td>0.331631</td>\n",
       "      <td>0.030641</td>\n",
       "      <td>3.716284</td>\n",
       "      <td>9.604663e+04</td>\n",
       "    </tr>\n",
       "    <tr>\n",
       "      <td>No_Of_Bathrooms</td>\n",
       "      <td>3.116958e+02</td>\n",
       "      <td>0.331631</td>\n",
       "      <td>0.559489</td>\n",
       "      <td>-0.035844</td>\n",
       "      <td>10.656964</td>\n",
       "      <td>1.361152e+05</td>\n",
       "    </tr>\n",
       "    <tr>\n",
       "      <td>Condition(on scale of 5)</td>\n",
       "      <td>-2.960411e+01</td>\n",
       "      <td>0.030641</td>\n",
       "      <td>-0.035844</td>\n",
       "      <td>0.468237</td>\n",
       "      <td>-5.750748</td>\n",
       "      <td>1.280813e+04</td>\n",
       "    </tr>\n",
       "    <tr>\n",
       "      <td>Year_Build</td>\n",
       "      <td>6.841451e+03</td>\n",
       "      <td>3.716284</td>\n",
       "      <td>10.656964</td>\n",
       "      <td>-5.750748</td>\n",
       "      <td>786.897263</td>\n",
       "      <td>4.530379e+05</td>\n",
       "    </tr>\n",
       "    <tr>\n",
       "      <td>Price</td>\n",
       "      <td>1.539372e+08</td>\n",
       "      <td>96046.627232</td>\n",
       "      <td>136115.182440</td>\n",
       "      <td>12808.132509</td>\n",
       "      <td>453037.862470</td>\n",
       "      <td>1.303650e+11</td>\n",
       "    </tr>\n",
       "  </tbody>\n",
       "</table>\n",
       "</div>"
      ],
      "text/plain": [
       "                          Living_Space(sqft)  No_Of_Bedrooms  ...     Year_Build         Price\n",
       "Living_Space(sqft)              4.655467e+05      239.879618  ...    6841.451065  1.539372e+08\n",
       "No_Of_Bedrooms                  2.398796e+02        0.756911  ...       3.716284  9.604663e+04\n",
       "No_Of_Bathrooms                 3.116958e+02        0.331631  ...      10.656964  1.361152e+05\n",
       "Condition(on scale of 5)       -2.960411e+01        0.030641  ...      -5.750748  1.280813e+04\n",
       "Year_Build                      6.841451e+03        3.716284  ...     786.897263  4.530379e+05\n",
       "Price                           1.539372e+08    96046.627232  ...  453037.862470  1.303650e+11\n",
       "\n",
       "[6 rows x 6 columns]"
      ]
     },
     "execution_count": 11,
     "metadata": {},
     "output_type": "execute_result"
    }
   ],
   "source": [
    "rawdata.cov()"
   ]
  },
  {
   "cell_type": "code",
   "execution_count": 5,
   "metadata": {},
   "outputs": [],
   "source": []
  }
 ],
 "metadata": {
  "kernelspec": {
   "display_name": "Python 3",
   "language": "python",
   "name": "python3"
  },
  "language_info": {
   "codemirror_mode": {
    "name": "ipython",
    "version": 3
   },
   "file_extension": ".py",
   "mimetype": "text/x-python",
   "name": "python",
   "nbconvert_exporter": "python",
   "pygments_lexer": "ipython3",
   "version": "3.7.4"
  }
 },
 "nbformat": 4,
 "nbformat_minor": 2
}
