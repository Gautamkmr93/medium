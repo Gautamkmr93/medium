{
 "cells": [
  {
   "cell_type": "code",
   "execution_count": 1,
   "metadata": {},
   "outputs": [],
   "source": [
    "import numpy as np\n",
    "import pandas as pd"
   ]
  },
  {
   "cell_type": "code",
   "execution_count": 2,
   "metadata": {},
   "outputs": [
    {
     "data": {
      "text/plain": [
       "Living_Space(sqft)          1197\n",
       "No_Of_Bedrooms              1196\n",
       "No_Of_Bathrooms              858\n",
       "Condition(on scale of 5)    1197\n",
       "Year_Build                  1198\n",
       "Swimming Pool               1197\n",
       "Location                    1196\n",
       "Price                       1196\n",
       "dtype: int64"
      ]
     },
     "execution_count": 2,
     "metadata": {},
     "output_type": "execute_result"
    }
   ],
   "source": [
    "data=pd.read_csv('New_Data.csv')\n",
    "data.count()"
   ]
  },
  {
   "cell_type": "code",
   "execution_count": 3,
   "metadata": {},
   "outputs": [
    {
     "data": {
      "text/plain": [
       "Living_Space(sqft)           0.083472\n",
       "No_Of_Bedrooms               0.166945\n",
       "No_Of_Bathrooms             28.380634\n",
       "Condition(on scale of 5)     0.083472\n",
       "Year_Build                   0.000000\n",
       "Swimming Pool                0.083472\n",
       "Location                     0.166945\n",
       "Price                        0.166945\n",
       "dtype: float64"
      ]
     },
     "execution_count": 3,
     "metadata": {},
     "output_type": "execute_result"
    }
   ],
   "source": [
    "#finding the missing values percentage\n",
    "data.isnull().sum()/len(data)*100"
   ]
  },
  {
   "cell_type": "code",
   "execution_count": 4,
   "metadata": {},
   "outputs": [
    {
     "data": {
      "text/plain": [
       "Living_Space(sqft)            1\n",
       "No_Of_Bedrooms                2\n",
       "No_Of_Bathrooms             340\n",
       "Condition(on scale of 5)      1\n",
       "Year_Build                    0\n",
       "Swimming Pool                 1\n",
       "Location                      2\n",
       "Price                         2\n",
       "dtype: int64"
      ]
     },
     "execution_count": 4,
     "metadata": {},
     "output_type": "execute_result"
    }
   ],
   "source": [
    "data.isnull().sum()"
   ]
  },
  {
   "cell_type": "code",
   "execution_count": 5,
   "metadata": {},
   "outputs": [],
   "source": [
    "data=data.dropna()"
   ]
  },
  {
   "cell_type": "code",
   "execution_count": 6,
   "metadata": {},
   "outputs": [
    {
     "data": {
      "text/plain": [
       "Living_Space(sqft)          0\n",
       "No_Of_Bedrooms              0\n",
       "No_Of_Bathrooms             0\n",
       "Condition(on scale of 5)    0\n",
       "Year_Build                  0\n",
       "Swimming Pool               0\n",
       "Location                    0\n",
       "Price                       0\n",
       "dtype: int64"
      ]
     },
     "execution_count": 6,
     "metadata": {},
     "output_type": "execute_result"
    }
   ],
   "source": [
    "data.isnull().sum()"
   ]
  },
  {
   "cell_type": "code",
   "execution_count": 7,
   "metadata": {},
   "outputs": [
    {
     "data": {
      "text/plain": [
       "Living_Space(sqft)          4.673652e+05\n",
       "No_Of_Bedrooms              7.705346e-01\n",
       "No_Of_Bathrooms             5.630983e-01\n",
       "Condition(on scale of 5)    4.643589e-01\n",
       "Year_Build                  7.673710e+02\n",
       "Price                       1.255268e+11\n",
       "dtype: float64"
      ]
     },
     "execution_count": 7,
     "metadata": {},
     "output_type": "execute_result"
    }
   ],
   "source": [
    "data.var()"
   ]
  },
  {
   "cell_type": "code",
   "execution_count": 8,
   "metadata": {},
   "outputs": [],
   "source": [
    "df=data.drop('Price',axis=1)"
   ]
  },
  {
   "cell_type": "code",
   "execution_count": 9,
   "metadata": {},
   "outputs": [
    {
     "data": {
      "text/html": [
       "<div>\n",
       "<style scoped>\n",
       "    .dataframe tbody tr th:only-of-type {\n",
       "        vertical-align: middle;\n",
       "    }\n",
       "\n",
       "    .dataframe tbody tr th {\n",
       "        vertical-align: top;\n",
       "    }\n",
       "\n",
       "    .dataframe thead th {\n",
       "        text-align: right;\n",
       "    }\n",
       "</style>\n",
       "<table border=\"1\" class=\"dataframe\">\n",
       "  <thead>\n",
       "    <tr style=\"text-align: right;\">\n",
       "      <th></th>\n",
       "      <th>Living_Space(sqft)</th>\n",
       "      <th>No_Of_Bedrooms</th>\n",
       "      <th>No_Of_Bathrooms</th>\n",
       "      <th>Condition(on scale of 5)</th>\n",
       "      <th>Year_Build</th>\n",
       "    </tr>\n",
       "  </thead>\n",
       "  <tbody>\n",
       "    <tr>\n",
       "      <td>Living_Space(sqft)</td>\n",
       "      <td>1.000000</td>\n",
       "      <td>0.398497</td>\n",
       "      <td>0.586666</td>\n",
       "      <td>-0.057746</td>\n",
       "      <td>0.352002</td>\n",
       "    </tr>\n",
       "    <tr>\n",
       "      <td>No_Of_Bedrooms</td>\n",
       "      <td>0.398497</td>\n",
       "      <td>1.000000</td>\n",
       "      <td>0.511915</td>\n",
       "      <td>0.054657</td>\n",
       "      <td>0.154893</td>\n",
       "    </tr>\n",
       "    <tr>\n",
       "      <td>No_Of_Bathrooms</td>\n",
       "      <td>0.586666</td>\n",
       "      <td>0.511915</td>\n",
       "      <td>1.000000</td>\n",
       "      <td>-0.091180</td>\n",
       "      <td>0.511043</td>\n",
       "    </tr>\n",
       "    <tr>\n",
       "      <td>Condition(on scale of 5)</td>\n",
       "      <td>-0.057746</td>\n",
       "      <td>0.054657</td>\n",
       "      <td>-0.091180</td>\n",
       "      <td>1.000000</td>\n",
       "      <td>-0.296055</td>\n",
       "    </tr>\n",
       "    <tr>\n",
       "      <td>Year_Build</td>\n",
       "      <td>0.352002</td>\n",
       "      <td>0.154893</td>\n",
       "      <td>0.511043</td>\n",
       "      <td>-0.296055</td>\n",
       "      <td>1.000000</td>\n",
       "    </tr>\n",
       "  </tbody>\n",
       "</table>\n",
       "</div>"
      ],
      "text/plain": [
       "                          Living_Space(sqft)  No_Of_Bedrooms  No_Of_Bathrooms  \\\n",
       "Living_Space(sqft)                  1.000000        0.398497         0.586666   \n",
       "No_Of_Bedrooms                      0.398497        1.000000         0.511915   \n",
       "No_Of_Bathrooms                     0.586666        0.511915         1.000000   \n",
       "Condition(on scale of 5)           -0.057746        0.054657        -0.091180   \n",
       "Year_Build                          0.352002        0.154893         0.511043   \n",
       "\n",
       "                          Condition(on scale of 5)  Year_Build  \n",
       "Living_Space(sqft)                       -0.057746    0.352002  \n",
       "No_Of_Bedrooms                            0.054657    0.154893  \n",
       "No_Of_Bathrooms                          -0.091180    0.511043  \n",
       "Condition(on scale of 5)                  1.000000   -0.296055  \n",
       "Year_Build                               -0.296055    1.000000  "
      ]
     },
     "execution_count": 9,
     "metadata": {},
     "output_type": "execute_result"
    }
   ],
   "source": [
    "df.corr()"
   ]
  },
  {
   "cell_type": "code",
   "execution_count": 10,
   "metadata": {},
   "outputs": [
    {
     "data": {
      "text/html": [
       "<div>\n",
       "<style scoped>\n",
       "    .dataframe tbody tr th:only-of-type {\n",
       "        vertical-align: middle;\n",
       "    }\n",
       "\n",
       "    .dataframe tbody tr th {\n",
       "        vertical-align: top;\n",
       "    }\n",
       "\n",
       "    .dataframe thead th {\n",
       "        text-align: right;\n",
       "    }\n",
       "</style>\n",
       "<table border=\"1\" class=\"dataframe\">\n",
       "  <thead>\n",
       "    <tr style=\"text-align: right;\">\n",
       "      <th></th>\n",
       "      <th>Living_Space(sqft)</th>\n",
       "      <th>No_Of_Bedrooms</th>\n",
       "      <th>No_Of_Bathrooms</th>\n",
       "      <th>Condition(on scale of 5)</th>\n",
       "      <th>Year_Build</th>\n",
       "      <th>Swimming Pool</th>\n",
       "      <th>Location</th>\n",
       "      <th>Price</th>\n",
       "    </tr>\n",
       "  </thead>\n",
       "  <tbody>\n",
       "    <tr>\n",
       "      <td>0</td>\n",
       "      <td>1340.0</td>\n",
       "      <td>3.0</td>\n",
       "      <td>1.00</td>\n",
       "      <td>3.0</td>\n",
       "      <td>1955</td>\n",
       "      <td>Yes</td>\n",
       "      <td>Bangalore</td>\n",
       "      <td>221900.0</td>\n",
       "    </tr>\n",
       "    <tr>\n",
       "      <td>342</td>\n",
       "      <td>1660.0</td>\n",
       "      <td>4.0</td>\n",
       "      <td>1.75</td>\n",
       "      <td>4.0</td>\n",
       "      <td>1991</td>\n",
       "      <td>Yes</td>\n",
       "      <td>Chennai</td>\n",
       "      <td>309600.0</td>\n",
       "    </tr>\n",
       "    <tr>\n",
       "      <td>343</td>\n",
       "      <td>2380.0</td>\n",
       "      <td>4.0</td>\n",
       "      <td>2.50</td>\n",
       "      <td>3.0</td>\n",
       "      <td>2002</td>\n",
       "      <td>No</td>\n",
       "      <td>Chennai</td>\n",
       "      <td>552250.0</td>\n",
       "    </tr>\n",
       "    <tr>\n",
       "      <td>344</td>\n",
       "      <td>1020.0</td>\n",
       "      <td>4.0</td>\n",
       "      <td>1.00</td>\n",
       "      <td>3.0</td>\n",
       "      <td>1943</td>\n",
       "      <td>Yes</td>\n",
       "      <td>Chennai</td>\n",
       "      <td>165000.0</td>\n",
       "    </tr>\n",
       "    <tr>\n",
       "      <td>345</td>\n",
       "      <td>1020.0</td>\n",
       "      <td>4.0</td>\n",
       "      <td>1.00</td>\n",
       "      <td>3.0</td>\n",
       "      <td>1943</td>\n",
       "      <td>Yes</td>\n",
       "      <td>Chennai</td>\n",
       "      <td>239900.0</td>\n",
       "    </tr>\n",
       "  </tbody>\n",
       "</table>\n",
       "</div>"
      ],
      "text/plain": [
       "     Living_Space(sqft)  No_Of_Bedrooms  No_Of_Bathrooms  \\\n",
       "0                1340.0             3.0             1.00   \n",
       "342              1660.0             4.0             1.75   \n",
       "343              2380.0             4.0             2.50   \n",
       "344              1020.0             4.0             1.00   \n",
       "345              1020.0             4.0             1.00   \n",
       "\n",
       "     Condition(on scale of 5)  Year_Build Swimming Pool   Location     Price  \n",
       "0                         3.0        1955           Yes  Bangalore  221900.0  \n",
       "342                       4.0        1991           Yes    Chennai  309600.0  \n",
       "343                       3.0        2002            No    Chennai  552250.0  \n",
       "344                       3.0        1943           Yes    Chennai  165000.0  \n",
       "345                       3.0        1943           Yes    Chennai  239900.0  "
      ]
     },
     "execution_count": 10,
     "metadata": {},
     "output_type": "execute_result"
    }
   ],
   "source": [
    "data.head()"
   ]
  },
  {
   "cell_type": "code",
   "execution_count": 77,
   "metadata": {},
   "outputs": [
    {
     "data": {
      "text/plain": [
       "(857, 8)"
      ]
     },
     "execution_count": 77,
     "metadata": {},
     "output_type": "execute_result"
    }
   ],
   "source": [
    "data.shape"
   ]
  },
  {
   "cell_type": "code",
   "execution_count": 22,
   "metadata": {},
   "outputs": [
    {
     "data": {
      "image/png": "[encoded data removed]",
      "text/plain": [
       "<Figure size 432x288 with 1 Axes>"
      ]
     },
     "metadata": {
      "needs_background": "light"
     },
     "output_type": "display_data"
    }
   ],
   "source": [
    "#random forest\n",
    "import matplotlib.pyplot as plt\n",
    "from sklearn.ensemble import RandomForestRegressor\n",
    "model = RandomForestRegressor(random_state=1, max_depth=10)\n",
    "data1=data.drop('Price',axis=1)\n",
    "df=pd.get_dummies(data1)\n",
    "model.fit(df,data.Price)\n",
    "features = df.columns\n",
    "importances = model.feature_importances_\n",
    "indices = np.argsort(importances)[-20:]  # top 20 features\n",
    "plt.barh(range(len(indices)), importances[indices], color='b', align='center')\n",
    "plt.yticks(range(len(indices)), [features[i] for i in indices])\n",
    "plt.xlabel('Score Values')\n",
    "plt.show()"
   ]
  },
  {
   "cell_type": "code",
   "execution_count": 81,
   "metadata": {},
   "outputs": [
    {
     "name": "stderr",
     "output_type": "stream",
     "text": [
      "C:\\Users\\gautam.y.kumar\\AppData\\Local\\Continuum\\anaconda3\\lib\\site-packages\\sklearn\\utils\\validation.py:70: FutureWarning: Pass n_features_to_select=7 as keyword args. From version 0.25 passing these as positional arguments will result in an error\n",
      "  FutureWarning)\n"
     ]
    },
    {
     "data": {
      "text/html": [
       "<table class=\"simpletable\">\n",
       "<caption>OLS Regression Results</caption>\n",
       "<tr>\n",
       "  <th>Dep. Variable:</th>          <td>Price</td>      <th>  R-squared:         </th> <td>   0.488</td> \n",
       "</tr>\n",
       "<tr>\n",
       "  <th>Model:</th>                   <td>OLS</td>       <th>  Adj. R-squared:    </th> <td>   0.485</td> \n",
       "</tr>\n",
       "<tr>\n",
       "  <th>Method:</th>             <td>Least Squares</td>  <th>  F-statistic:       </th> <td>   162.2</td> \n",
       "</tr>\n",
       "<tr>\n",
       "  <th>Date:</th>             <td>Tue, 22 Dec 2020</td> <th>  Prob (F-statistic):</th> <td>4.42e-121</td>\n",
       "</tr>\n",
       "<tr>\n",
       "  <th>Time:</th>                 <td>16:59:40</td>     <th>  Log-Likelihood:    </th> <td> -11879.</td> \n",
       "</tr>\n",
       "<tr>\n",
       "  <th>No. Observations:</th>      <td>   857</td>      <th>  AIC:               </th> <td>2.377e+04</td>\n",
       "</tr>\n",
       "<tr>\n",
       "  <th>Df Residuals:</th>          <td>   851</td>      <th>  BIC:               </th> <td>2.380e+04</td>\n",
       "</tr>\n",
       "<tr>\n",
       "  <th>Df Model:</th>              <td>     5</td>      <th>                     </th>     <td> </td>    \n",
       "</tr>\n",
       "<tr>\n",
       "  <th>Covariance Type:</th>      <td>nonrobust</td>    <th>                     </th>     <td> </td>    \n",
       "</tr>\n",
       "</table>\n",
       "<table class=\"simpletable\">\n",
       "<tr>\n",
       "    <td></td>       <th>coef</th>     <th>std err</th>      <th>t</th>      <th>P>|t|</th>  <th>[0.025</th>    <th>0.975]</th>  \n",
       "</tr>\n",
       "<tr>\n",
       "  <th>const</th> <td> 7.477e+06</td> <td> 7.63e+05</td> <td>    9.802</td> <td> 0.000</td> <td> 5.98e+06</td> <td> 8.97e+06</td>\n",
       "</tr>\n",
       "<tr>\n",
       "  <th>x1</th>    <td>  268.9699</td> <td>   15.931</td> <td>   16.883</td> <td> 0.000</td> <td>  237.701</td> <td>  300.239</td>\n",
       "</tr>\n",
       "<tr>\n",
       "  <th>x2</th>    <td>-2.418e+04</td> <td> 1.18e+04</td> <td>   -2.045</td> <td> 0.041</td> <td>-4.74e+04</td> <td> -975.544</td>\n",
       "</tr>\n",
       "<tr>\n",
       "  <th>x3</th>    <td> 1.869e+05</td> <td> 1.71e+04</td> <td>   10.958</td> <td> 0.000</td> <td> 1.53e+05</td> <td>  2.2e+05</td>\n",
       "</tr>\n",
       "<tr>\n",
       "  <th>x4</th>    <td> 2.115e+04</td> <td> 1.34e+04</td> <td>    1.575</td> <td> 0.116</td> <td>-5213.300</td> <td> 4.75e+04</td>\n",
       "</tr>\n",
       "<tr>\n",
       "  <th>x5</th>    <td>-3991.4850</td> <td>  385.857</td> <td>  -10.344</td> <td> 0.000</td> <td>-4748.828</td> <td>-3234.142</td>\n",
       "</tr>\n",
       "</table>\n",
       "<table class=\"simpletable\">\n",
       "<tr>\n",
       "  <th>Omnibus:</th>       <td>982.478</td> <th>  Durbin-Watson:     </th>  <td>   1.981</td> \n",
       "</tr>\n",
       "<tr>\n",
       "  <th>Prob(Omnibus):</th> <td> 0.000</td>  <th>  Jarque-Bera (JB):  </th> <td>152177.980</td>\n",
       "</tr>\n",
       "<tr>\n",
       "  <th>Skew:</th>          <td> 5.334</td>  <th>  Prob(JB):          </th>  <td>    0.00</td> \n",
       "</tr>\n",
       "<tr>\n",
       "  <th>Kurtosis:</th>      <td>67.404</td>  <th>  Cond. No.          </th>  <td>2.49e+05</td> \n",
       "</tr>\n",
       "</table><br/><br/>Warnings:<br/>[1] Standard Errors assume that the covariance matrix of the errors is correctly specified.<br/>[2] The condition number is large, 2.49e+05. This might indicate that there are<br/>strong multicollinearity or other numerical problems."
      ],
      "text/plain": [
       "<class 'statsmodels.iolib.summary.Summary'>\n",
       "\"\"\"\n",
       "                            OLS Regression Results                            \n",
       "==============================================================================\n",
       "Dep. Variable:                  Price   R-squared:                       0.488\n",
       "Model:                            OLS   Adj. R-squared:                  0.485\n",
       "Method:                 Least Squares   F-statistic:                     162.2\n",
       "Date:                Tue, 22 Dec 2020   Prob (F-statistic):          4.42e-121\n",
       "Time:                        16:59:40   Log-Likelihood:                -11879.\n",
       "No. Observations:                 857   AIC:                         2.377e+04\n",
       "Df Residuals:                     851   BIC:                         2.380e+04\n",
       "Df Model:                           5                                         \n",
       "Covariance Type:            nonrobust                                         \n",
       "==============================================================================\n",
       "                 coef    std err          t      P>|t|      [0.025      0.975]\n",
       "------------------------------------------------------------------------------\n",
       "const       7.477e+06   7.63e+05      9.802      0.000    5.98e+06    8.97e+06\n",
       "x1           268.9699     15.931     16.883      0.000     237.701     300.239\n",
       "x2         -2.418e+04   1.18e+04     -2.045      0.041   -4.74e+04    -975.544\n",
       "x3          1.869e+05   1.71e+04     10.958      0.000    1.53e+05     2.2e+05\n",
       "x4          2.115e+04   1.34e+04      1.575      0.116   -5213.300    4.75e+04\n",
       "x5         -3991.4850    385.857    -10.344      0.000   -4748.828   -3234.142\n",
       "==============================================================================\n",
       "Omnibus:                      982.478   Durbin-Watson:                   1.981\n",
       "Prob(Omnibus):                  0.000   Jarque-Bera (JB):           152177.980\n",
       "Skew:                           5.334   Prob(JB):                         0.00\n",
       "Kurtosis:                      67.404   Cond. No.                     2.49e+05\n",
       "==============================================================================\n",
       "\n",
       "Warnings:\n",
       "[1] Standard Errors assume that the covariance matrix of the errors is correctly specified.\n",
       "[2] The condition number is large, 2.49e+05. This might indicate that there are\n",
       "strong multicollinearity or other numerical problems.\n",
       "\"\"\""
      ]
     },
     "execution_count": 81,
     "metadata": {},
     "output_type": "execute_result"
    }
   ],
   "source": [
    "#backward feature elimination\n",
    "from sklearn.linear_model import LinearRegression\n",
    "from sklearn.feature_selection import RFE\n",
    "data['Location']=pd.get_dummies(data.Location)\n",
    "data['Swimming Pool']=pd.get_dummies(data['Swimming Pool'])\n",
    "x= data.drop(columns = ['Price'],axis=1)\n",
    "y = data['Price']\n",
    "CreateModel= LinearRegression()\n",
    "CreateModel_RFE= RFE(CreateModel, 7)\n",
    "CreateModel_RFE= CreateModel_RFE.fit_transform(x,y)\n",
    "import numpy as np\n",
    "import statsmodels.regression.linear_model as sm \n",
    "x = np.append(arr= np.ones((857, 1)).astype(int),values = x, axis = 1) \n",
    "x_opt = x[:, [0, 1, 2, 3, 4, 5]] \n",
    "ols = sm.OLS(endog = y, exog = x_opt).fit() \n",
    "ols.summary() "
   ]
  },
  {
   "cell_type": "code",
   "execution_count": 80,
   "metadata": {},
   "outputs": [
    {
     "data": {
      "text/html": [
       "<table class=\"simpletable\">\n",
       "<caption>OLS Regression Results</caption>\n",
       "<tr>\n",
       "  <th>Dep. Variable:</th>          <td>Price</td>      <th>  R-squared:         </th> <td>   0.488</td> \n",
       "</tr>\n",
       "<tr>\n",
       "  <th>Model:</th>                   <td>OLS</td>       <th>  Adj. R-squared:    </th> <td>   0.485</td> \n",
       "</tr>\n",
       "<tr>\n",
       "  <th>Method:</th>             <td>Least Squares</td>  <th>  F-statistic:       </th> <td>   162.2</td> \n",
       "</tr>\n",
       "<tr>\n",
       "  <th>Date:</th>             <td>Tue, 22 Dec 2020</td> <th>  Prob (F-statistic):</th> <td>4.42e-121</td>\n",
       "</tr>\n",
       "<tr>\n",
       "  <th>Time:</th>                 <td>16:59:27</td>     <th>  Log-Likelihood:    </th> <td> -11879.</td> \n",
       "</tr>\n",
       "<tr>\n",
       "  <th>No. Observations:</th>      <td>   857</td>      <th>  AIC:               </th> <td>2.377e+04</td>\n",
       "</tr>\n",
       "<tr>\n",
       "  <th>Df Residuals:</th>          <td>   851</td>      <th>  BIC:               </th> <td>2.380e+04</td>\n",
       "</tr>\n",
       "<tr>\n",
       "  <th>Df Model:</th>              <td>     5</td>      <th>                     </th>     <td> </td>    \n",
       "</tr>\n",
       "<tr>\n",
       "  <th>Covariance Type:</th>      <td>nonrobust</td>    <th>                     </th>     <td> </td>    \n",
       "</tr>\n",
       "</table>\n",
       "<table class=\"simpletable\">\n",
       "<tr>\n",
       "    <td></td>       <th>coef</th>     <th>std err</th>      <th>t</th>      <th>P>|t|</th>  <th>[0.025</th>    <th>0.975]</th>  \n",
       "</tr>\n",
       "<tr>\n",
       "  <th>const</th> <td> 7.477e+06</td> <td> 7.63e+05</td> <td>    9.802</td> <td> 0.000</td> <td> 5.98e+06</td> <td> 8.97e+06</td>\n",
       "</tr>\n",
       "<tr>\n",
       "  <th>x1</th>    <td>  268.9699</td> <td>   15.931</td> <td>   16.883</td> <td> 0.000</td> <td>  237.701</td> <td>  300.239</td>\n",
       "</tr>\n",
       "<tr>\n",
       "  <th>x2</th>    <td>-2.418e+04</td> <td> 1.18e+04</td> <td>   -2.045</td> <td> 0.041</td> <td>-4.74e+04</td> <td> -975.544</td>\n",
       "</tr>\n",
       "<tr>\n",
       "  <th>x3</th>    <td> 1.869e+05</td> <td> 1.71e+04</td> <td>   10.958</td> <td> 0.000</td> <td> 1.53e+05</td> <td>  2.2e+05</td>\n",
       "</tr>\n",
       "<tr>\n",
       "  <th>x4</th>    <td> 2.115e+04</td> <td> 1.34e+04</td> <td>    1.575</td> <td> 0.116</td> <td>-5213.300</td> <td> 4.75e+04</td>\n",
       "</tr>\n",
       "<tr>\n",
       "  <th>x5</th>    <td>-3991.4850</td> <td>  385.857</td> <td>  -10.344</td> <td> 0.000</td> <td>-4748.828</td> <td>-3234.142</td>\n",
       "</tr>\n",
       "</table>\n",
       "<table class=\"simpletable\">\n",
       "<tr>\n",
       "  <th>Omnibus:</th>       <td>982.478</td> <th>  Durbin-Watson:     </th>  <td>   1.981</td> \n",
       "</tr>\n",
       "<tr>\n",
       "  <th>Prob(Omnibus):</th> <td> 0.000</td>  <th>  Jarque-Bera (JB):  </th> <td>152177.980</td>\n",
       "</tr>\n",
       "<tr>\n",
       "  <th>Skew:</th>          <td> 5.334</td>  <th>  Prob(JB):          </th>  <td>    0.00</td> \n",
       "</tr>\n",
       "<tr>\n",
       "  <th>Kurtosis:</th>      <td>67.404</td>  <th>  Cond. No.          </th>  <td>2.49e+05</td> \n",
       "</tr>\n",
       "</table><br/><br/>Warnings:<br/>[1] Standard Errors assume that the covariance matrix of the errors is correctly specified.<br/>[2] The condition number is large, 2.49e+05. This might indicate that there are<br/>strong multicollinearity or other numerical problems."
      ],
      "text/plain": [
       "<class 'statsmodels.iolib.summary.Summary'>\n",
       "\"\"\"\n",
       "                            OLS Regression Results                            \n",
       "==============================================================================\n",
       "Dep. Variable:                  Price   R-squared:                       0.488\n",
       "Model:                            OLS   Adj. R-squared:                  0.485\n",
       "Method:                 Least Squares   F-statistic:                     162.2\n",
       "Date:                Tue, 22 Dec 2020   Prob (F-statistic):          4.42e-121\n",
       "Time:                        16:59:27   Log-Likelihood:                -11879.\n",
       "No. Observations:                 857   AIC:                         2.377e+04\n",
       "Df Residuals:                     851   BIC:                         2.380e+04\n",
       "Df Model:                           5                                         \n",
       "Covariance Type:            nonrobust                                         \n",
       "==============================================================================\n",
       "                 coef    std err          t      P>|t|      [0.025      0.975]\n",
       "------------------------------------------------------------------------------\n",
       "const       7.477e+06   7.63e+05      9.802      0.000    5.98e+06    8.97e+06\n",
       "x1           268.9699     15.931     16.883      0.000     237.701     300.239\n",
       "x2         -2.418e+04   1.18e+04     -2.045      0.041   -4.74e+04    -975.544\n",
       "x3          1.869e+05   1.71e+04     10.958      0.000    1.53e+05     2.2e+05\n",
       "x4          2.115e+04   1.34e+04      1.575      0.116   -5213.300    4.75e+04\n",
       "x5         -3991.4850    385.857    -10.344      0.000   -4748.828   -3234.142\n",
       "==============================================================================\n",
       "Omnibus:                      982.478   Durbin-Watson:                   1.981\n",
       "Prob(Omnibus):                  0.000   Jarque-Bera (JB):           152177.980\n",
       "Skew:                           5.334   Prob(JB):                         0.00\n",
       "Kurtosis:                      67.404   Cond. No.                     2.49e+05\n",
       "==============================================================================\n",
       "\n",
       "Warnings:\n",
       "[1] Standard Errors assume that the covariance matrix of the errors is correctly specified.\n",
       "[2] The condition number is large, 2.49e+05. This might indicate that there are\n",
       "strong multicollinearity or other numerical problems.\n",
       "\"\"\""
      ]
     },
     "execution_count": 80,
     "metadata": {},
     "output_type": "execute_result"
    }
   ],
   "source": []
  },
  {
   "cell_type": "code",
   "execution_count": 54,
   "metadata": {},
   "outputs": [
    {
     "data": {
      "text/plain": [
       "['Living_Space(sqft)', 'No_Of_Bedrooms', 'No_Of_Bathrooms']"
      ]
     },
     "execution_count": 54,
     "metadata": {},
     "output_type": "execute_result"
    }
   ],
   "source": [
    "from sklearn.feature_selection import f_regression\n",
    "forward = f_regression(df,data.Price)\n",
    "attributes = [ ]\n",
    "for i in range(0,len(df.columns)-1):\n",
    "    if forward[0][i] >=5:\n",
    "       attributes.append(df.columns[i])\n",
    "attributes"
   ]
  },
  {
   "cell_type": "code",
   "execution_count": null,
   "metadata": {},
   "outputs": [],
   "source": []
  }
 ],
 "metadata": {
  "kernelspec": {
   "display_name": "Python 3",
   "language": "python",
   "name": "python3"
  },
  "language_info": {
   "codemirror_mode": {
    "name": "ipython",
    "version": 3
   },
   "file_extension": ".py",
   "mimetype": "text/x-python",
   "name": "python",
   "nbconvert_exporter": "python",
   "pygments_lexer": "ipython3",
   "version": "3.7.4"
  }
 },
 "nbformat": 4,
 "nbformat_minor": 2
}
